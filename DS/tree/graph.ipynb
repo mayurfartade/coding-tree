{
 "cells": [
  {
   "cell_type": "code",
   "execution_count": 20,
   "metadata": {},
   "outputs": [],
   "source": [
    "class Graph:\n",
    "    def __init__(self, size):\n",
    "        self.adjM = []\n",
    "        for i in range(size):\n",
    "            self.adjM.append([0 for i in range(size)])\n",
    "        self.size = size\n",
    "    \n",
    "    def addEdge(self,v1,v2):\n",
    "        if v1 == v2:\n",
    "            print(\"Same vertex\")\n",
    "            return\n",
    "        self.adjM[v1][v2] = 1\n",
    "        self.adjM[v2][v1] = 1\n",
    "    \n",
    "    def removeEdge(self, v1, v2):\n",
    "        if self.adjM[v1][v2] == 0:\n",
    "            print(\"Already Removed\")\n",
    "            return\n",
    "        self.adjM[v1][v2] = 0\n",
    "        self.adjM[v2][v1] = 0\n",
    "    \n",
    "    def __len__(self):\n",
    "        return self.size\n",
    "    \n",
    "    def printG(self):\n",
    "        for i in range(self.size):\n",
    "            print(self.adjM[i])\n",
    "\n"
   ]
  },
  {
   "cell_type": "code",
   "execution_count": 21,
   "metadata": {},
   "outputs": [],
   "source": [
    "g = Graph(5)"
   ]
  },
  {
   "cell_type": "code",
   "execution_count": 28,
   "metadata": {},
   "outputs": [
    {
     "name": "stdout",
     "output_type": "stream",
     "text": [
      "[0, 1, 0, 0, 0]\n",
      "[1, 0, 1, 1, 0]\n",
      "[0, 1, 0, 0, 0]\n",
      "[0, 1, 0, 0, 1]\n",
      "[0, 0, 0, 1, 0]\n"
     ]
    }
   ],
   "source": [
    "g.printG()"
   ]
  },
  {
   "cell_type": "code",
   "execution_count": 27,
   "metadata": {},
   "outputs": [],
   "source": [
    "g.addEdge(1,0)\n",
    "g.addEdge(2,1)\n",
    "g.addEdge(1,3)\n",
    "g.addEdge(4,3)\n"
   ]
  },
  {
   "cell_type": "code",
   "execution_count": 29,
   "metadata": {},
   "outputs": [],
   "source": [
    "#convert adjM to adj List"
   ]
  },
  {
   "cell_type": "code",
   "execution_count": 39,
   "metadata": {},
   "outputs": [],
   "source": [
    "class AdjNode:\n",
    "    def __init__(self, value):\n",
    "        self.vertex = value\n",
    "        self.next = None\n",
    "        \n",
    "class AList:\n",
    "    def __init__(self, vertices):\n",
    "        self.v = vertices\n",
    "        self.graph = [None]*vertices\n",
    "        \n",
    "    def addEdge(self, v1, v2):\n",
    "        node = AdjNode(v2)\n",
    "        node.next = self.graph[v1]\n",
    "        self.graph[v1] = node\n",
    "        \n",
    "        node = AdjNode(v1)\n",
    "        node.next = self.graph[v2]\n",
    "        self.graph[v2] = node\n",
    "    \n",
    "    def printG(self):\n",
    "        for i in range(self.v):\n",
    "            print()\n",
    "            print(\"Head \",i,end=\"-> \")\n",
    "            temp = self.graph[i]\n",
    "            while temp:\n",
    "                print(temp.vertex, end=\", \")\n",
    "                temp = temp.next\n",
    "            \n",
    "    "
   ]
  },
  {
   "cell_type": "code",
   "execution_count": 40,
   "metadata": {},
   "outputs": [],
   "source": [
    "g = AList(5)"
   ]
  },
  {
   "cell_type": "code",
   "execution_count": 41,
   "metadata": {},
   "outputs": [],
   "source": [
    "g.addEdge(1,0)\n",
    "g.addEdge(2,1)\n",
    "g.addEdge(1,3)\n",
    "g.addEdge(4,3)\n"
   ]
  },
  {
   "cell_type": "code",
   "execution_count": 42,
   "metadata": {},
   "outputs": [
    {
     "name": "stdout",
     "output_type": "stream",
     "text": [
      "\n",
      "Head  0-> 1, \n",
      "Head  1-> 3, 2, 0, \n",
      "Head  2-> 1, \n",
      "Head  3-> 4, 1, \n",
      "Head  4-> 3, "
     ]
    }
   ],
   "source": [
    "g.printG()"
   ]
  },
  {
   "cell_type": "code",
   "execution_count": null,
   "metadata": {},
   "outputs": [],
   "source": []
  }
 ],
 "metadata": {
  "kernelspec": {
   "display_name": "Python 3",
   "language": "python",
   "name": "python3"
  },
  "language_info": {
   "codemirror_mode": {
    "name": "ipython",
    "version": 3
   },
   "file_extension": ".py",
   "mimetype": "text/x-python",
   "name": "python",
   "nbconvert_exporter": "python",
   "pygments_lexer": "ipython3",
   "version": "3.6.9"
  }
 },
 "nbformat": 4,
 "nbformat_minor": 4
}
